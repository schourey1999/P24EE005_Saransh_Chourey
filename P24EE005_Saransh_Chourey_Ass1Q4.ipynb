{
  "nbformat": 4,
  "nbformat_minor": 0,
  "metadata": {
    "colab": {
      "provenance": []
    },
    "kernelspec": {
      "name": "python3",
      "display_name": "Python 3"
    },
    "language_info": {
      "name": "python"
    }
  },
  "cells": [
    {
      "cell_type": "markdown",
      "source": [
        "# Assignment 1 Question number 4 answer"
      ],
      "metadata": {
        "id": "Lq7zXDxL28Fq"
      }
    },
    {
      "cell_type": "code",
      "source": [
        "import pandas as pd\n",
        "import numpy as np\n",
        "\n",
        "read = pd.read_csv('/content/drive/MyDrive/WineQT.csv')\n",
        "\n",
        "print(read.head())\n"
      ],
      "metadata": {
        "id": "nMPS4W1T3Hmp",
        "colab": {
          "base_uri": "https://localhost:8080/"
        },
        "outputId": "29ddb559-51bc-436a-fc1c-580b490fe64d"
      },
      "execution_count": 23,
      "outputs": [
        {
          "output_type": "stream",
          "name": "stdout",
          "text": [
            "   fixed acidity  volatile acidity  citric acid  residual sugar  chlorides  \\\n",
            "0            7.4              0.70         0.00             1.9      0.076   \n",
            "1            7.8              0.88         0.00             2.6      0.098   \n",
            "2            7.8              0.76         0.04             2.3      0.092   \n",
            "3           11.2              0.28         0.56             1.9      0.075   \n",
            "4            7.4              0.70         0.00             1.9      0.076   \n",
            "\n",
            "   free sulfur dioxide  total sulfur dioxide  density    pH  sulphates  \\\n",
            "0                 11.0                  34.0   0.9978  3.51       0.56   \n",
            "1                 25.0                  67.0   0.9968  3.20       0.68   \n",
            "2                 15.0                  54.0   0.9970  3.26       0.65   \n",
            "3                 17.0                  60.0   0.9980  3.16       0.58   \n",
            "4                 11.0                  34.0   0.9978  3.51       0.56   \n",
            "\n",
            "   alcohol  quality  Id  \n",
            "0      9.4        5   0  \n",
            "1      9.8        5   1  \n",
            "2      9.8        5   2  \n",
            "3      9.8        6   3  \n",
            "4      9.4        5   4  \n"
          ]
        }
      ]
    },
    {
      "cell_type": "code",
      "source": [
        "print(read.tail())\n"
      ],
      "metadata": {
        "colab": {
          "base_uri": "https://localhost:8080/"
        },
        "id": "119hfm8o4CEB",
        "outputId": "cd58d899-c67a-4952-a484-21686b719525"
      },
      "execution_count": 24,
      "outputs": [
        {
          "output_type": "stream",
          "name": "stdout",
          "text": [
            "      fixed acidity  volatile acidity  citric acid  residual sugar  chlorides  \\\n",
            "1138            6.3             0.510         0.13             2.3      0.076   \n",
            "1139            6.8             0.620         0.08             1.9      0.068   \n",
            "1140            6.2             0.600         0.08             2.0      0.090   \n",
            "1141            5.9             0.550         0.10             2.2      0.062   \n",
            "1142            5.9             0.645         0.12             2.0      0.075   \n",
            "\n",
            "      free sulfur dioxide  total sulfur dioxide  density    pH  sulphates  \\\n",
            "1138                 29.0                  40.0  0.99574  3.42       0.75   \n",
            "1139                 28.0                  38.0  0.99651  3.42       0.82   \n",
            "1140                 32.0                  44.0  0.99490  3.45       0.58   \n",
            "1141                 39.0                  51.0  0.99512  3.52       0.76   \n",
            "1142                 32.0                  44.0  0.99547  3.57       0.71   \n",
            "\n",
            "      alcohol  quality    Id  \n",
            "1138     11.0        6  1592  \n",
            "1139      9.5        6  1593  \n",
            "1140     10.5        5  1594  \n",
            "1141     11.2        6  1595  \n",
            "1142     10.2        5  1597  \n"
          ]
        }
      ]
    },
    {
      "cell_type": "code",
      "source": [
        "print(read.info())\n"
      ],
      "metadata": {
        "colab": {
          "base_uri": "https://localhost:8080/"
        },
        "id": "s3l3qpnmNN5H",
        "outputId": "ec377daa-aa54-45c2-f465-0aeebfb948ab"
      },
      "execution_count": 25,
      "outputs": [
        {
          "output_type": "stream",
          "name": "stdout",
          "text": [
            "<class 'pandas.core.frame.DataFrame'>\n",
            "RangeIndex: 1143 entries, 0 to 1142\n",
            "Data columns (total 13 columns):\n",
            " #   Column                Non-Null Count  Dtype  \n",
            "---  ------                --------------  -----  \n",
            " 0   fixed acidity         1143 non-null   float64\n",
            " 1   volatile acidity      1143 non-null   float64\n",
            " 2   citric acid           1143 non-null   float64\n",
            " 3   residual sugar        1143 non-null   float64\n",
            " 4   chlorides             1143 non-null   float64\n",
            " 5   free sulfur dioxide   1143 non-null   float64\n",
            " 6   total sulfur dioxide  1143 non-null   float64\n",
            " 7   density               1143 non-null   float64\n",
            " 8   pH                    1143 non-null   float64\n",
            " 9   sulphates             1143 non-null   float64\n",
            " 10  alcohol               1143 non-null   float64\n",
            " 11  quality               1143 non-null   int64  \n",
            " 12  Id                    1143 non-null   int64  \n",
            "dtypes: float64(11), int64(2)\n",
            "memory usage: 116.2 KB\n",
            "None\n"
          ]
        }
      ]
    },
    {
      "cell_type": "code",
      "source": [
        "print(read.describe())\n"
      ],
      "metadata": {
        "colab": {
          "base_uri": "https://localhost:8080/"
        },
        "id": "Fy8wk9PINTPS",
        "outputId": "a42bb3f9-48d8-4ff2-a9f3-8a570cf2d27f"
      },
      "execution_count": 26,
      "outputs": [
        {
          "output_type": "stream",
          "name": "stdout",
          "text": [
            "       fixed acidity  volatile acidity  citric acid  residual sugar  \\\n",
            "count    1143.000000       1143.000000  1143.000000     1143.000000   \n",
            "mean        8.311111          0.531339     0.268364        2.532152   \n",
            "std         1.747595          0.179633     0.196686        1.355917   \n",
            "min         4.600000          0.120000     0.000000        0.900000   \n",
            "25%         7.100000          0.392500     0.090000        1.900000   \n",
            "50%         7.900000          0.520000     0.250000        2.200000   \n",
            "75%         9.100000          0.640000     0.420000        2.600000   \n",
            "max        15.900000          1.580000     1.000000       15.500000   \n",
            "\n",
            "         chlorides  free sulfur dioxide  total sulfur dioxide      density  \\\n",
            "count  1143.000000          1143.000000           1143.000000  1143.000000   \n",
            "mean      0.086933            15.615486             45.914698     0.996730   \n",
            "std       0.047267            10.250486             32.782130     0.001925   \n",
            "min       0.012000             1.000000              6.000000     0.990070   \n",
            "25%       0.070000             7.000000             21.000000     0.995570   \n",
            "50%       0.079000            13.000000             37.000000     0.996680   \n",
            "75%       0.090000            21.000000             61.000000     0.997845   \n",
            "max       0.611000            68.000000            289.000000     1.003690   \n",
            "\n",
            "                pH    sulphates      alcohol      quality           Id  \n",
            "count  1143.000000  1143.000000  1143.000000  1143.000000  1143.000000  \n",
            "mean      3.311015     0.657708    10.442111     5.657043   804.969379  \n",
            "std       0.156664     0.170399     1.082196     0.805824   463.997116  \n",
            "min       2.740000     0.330000     8.400000     3.000000     0.000000  \n",
            "25%       3.205000     0.550000     9.500000     5.000000   411.000000  \n",
            "50%       3.310000     0.620000    10.200000     6.000000   794.000000  \n",
            "75%       3.400000     0.730000    11.100000     6.000000  1209.500000  \n",
            "max       4.010000     2.000000    14.900000     8.000000  1597.000000  \n"
          ]
        }
      ]
    },
    {
      "cell_type": "code",
      "source": [
        "print(read[\"quality\"].value_counts())\n"
      ],
      "metadata": {
        "colab": {
          "base_uri": "https://localhost:8080/"
        },
        "id": "z3PcQL3fNZCT",
        "outputId": "a5a6b239-72ff-4393-9d8c-6afa83040e0e"
      },
      "execution_count": 27,
      "outputs": [
        {
          "output_type": "stream",
          "name": "stdout",
          "text": [
            "quality\n",
            "5    483\n",
            "6    462\n",
            "7    143\n",
            "4     33\n",
            "8     16\n",
            "3      6\n",
            "Name: count, dtype: int64\n"
          ]
        }
      ]
    },
    {
      "cell_type": "markdown",
      "source": [
        "## Replacing the quality with 0 or 1 as per given task in the question"
      ],
      "metadata": {
        "id": "tv8dBtsp1e9x"
      }
    },
    {
      "cell_type": "code",
      "source": [
        "read_copy = read.copy()\n",
        "pd.options.mode.chained_assignment = None\n",
        "\n",
        "for i in range(0, 1143):\n",
        "    if read_copy['quality'][i] >= 7:\n",
        "        read_copy['quality'][i] = 1\n",
        "    else:\n",
        "        read_copy['quality'][i] = 0\n",
        "\n",
        "print(read_copy[\"quality\"].value_counts())"
      ],
      "metadata": {
        "colab": {
          "base_uri": "https://localhost:8080/"
        },
        "collapsed": true,
        "id": "WaAmE-2JNbCV",
        "outputId": "6a06552d-a8dc-4330-9541-5eeb758a235d"
      },
      "execution_count": 32,
      "outputs": [
        {
          "output_type": "stream",
          "name": "stdout",
          "text": [
            "quality\n",
            "0    984\n",
            "1    159\n",
            "Name: count, dtype: int64\n"
          ]
        }
      ]
    },
    {
      "cell_type": "code",
      "source": [
        "read_copy1 = read_copy.columns.drop('quality')\n",
        "print(read_copy1)\n",
        "read_copy_quality = read_copy['quality']\n",
        "print(read_copy_quality)"
      ],
      "metadata": {
        "colab": {
          "base_uri": "https://localhost:8080/"
        },
        "id": "fIlI7LRap8Rs",
        "outputId": "62d0941a-575a-4611-9442-71e1c0103a97"
      },
      "execution_count": 31,
      "outputs": [
        {
          "output_type": "stream",
          "name": "stdout",
          "text": [
            "Index(['fixed acidity', 'volatile acidity', 'citric acid', 'residual sugar',\n",
            "       'chlorides', 'free sulfur dioxide', 'total sulfur dioxide', 'density',\n",
            "       'pH', 'sulphates', 'alcohol', 'Id'],\n",
            "      dtype='object')\n",
            "0       0\n",
            "1       0\n",
            "2       0\n",
            "3       0\n",
            "4       0\n",
            "       ..\n",
            "1138    0\n",
            "1139    0\n",
            "1140    0\n",
            "1141    0\n",
            "1142    0\n",
            "Name: quality, Length: 1143, dtype: int64\n"
          ]
        }
      ]
    },
    {
      "cell_type": "markdown",
      "source": [
        "## Now using min-max scaling to scale all the values between 0 and 1 for that we first drop 'quality' column as we have already scaled it to 1 or 0 then proceeding with the operation"
      ],
      "metadata": {
        "id": "Qm6RGp4C1tXA"
      }
    },
    {
      "cell_type": "code",
      "source": [
        "new_columns = ['fixed acidity', 'volatile acidity', 'citric acid', 'residual sugar',\n",
        "           'chlorides', 'free sulfur dioxide', 'total sulfur dioxide', 'density',\n",
        "           'pH', 'sulphates', 'alcohol', 'Id']\n",
        "\n",
        "read_copy2 = read_copy.copy()\n",
        "read_copy2 = read_copy2.drop('quality', axis=1)\n",
        "\n",
        "for col in new_columns:\n",
        "    read_copy2[col] = (read_copy[col] - read_copy[col].min()) / (read_copy[col].max() - read_copy[col].min())\n",
        "\n",
        "print(read_copy2.head())\n"
      ],
      "metadata": {
        "colab": {
          "base_uri": "https://localhost:8080/"
        },
        "id": "YrmFv-GjyH30",
        "outputId": "a4de8f73-93b8-46d5-c555-3fcadd8689f8"
      },
      "execution_count": 33,
      "outputs": [
        {
          "output_type": "stream",
          "name": "stdout",
          "text": [
            "   fixed acidity  volatile acidity  citric acid  residual sugar  chlorides  \\\n",
            "0       0.247788          0.397260         0.00        0.068493   0.106845   \n",
            "1       0.283186          0.520548         0.00        0.116438   0.143573   \n",
            "2       0.283186          0.438356         0.04        0.095890   0.133556   \n",
            "3       0.584071          0.109589         0.56        0.068493   0.105175   \n",
            "4       0.247788          0.397260         0.00        0.068493   0.106845   \n",
            "\n",
            "   free sulfur dioxide  total sulfur dioxide   density        pH  sulphates  \\\n",
            "0             0.149254              0.098940  0.567548  0.606299   0.137725   \n",
            "1             0.358209              0.215548  0.494126  0.362205   0.209581   \n",
            "2             0.208955              0.169611  0.508811  0.409449   0.191617   \n",
            "3             0.238806              0.190813  0.582232  0.330709   0.149701   \n",
            "4             0.149254              0.098940  0.567548  0.606299   0.137725   \n",
            "\n",
            "    alcohol        Id  \n",
            "0  0.153846  0.000000  \n",
            "1  0.215385  0.000626  \n",
            "2  0.215385  0.001252  \n",
            "3  0.215385  0.001879  \n",
            "4  0.153846  0.002505  \n"
          ]
        }
      ]
    },
    {
      "cell_type": "markdown",
      "source": [
        "## After rest of the columns are scaled between 0 to 1, now adding back the 'quality' column in the dataset to complete the task"
      ],
      "metadata": {
        "id": "eDamBNVZ2JPF"
      }
    },
    {
      "cell_type": "code",
      "source": [
        "read_copy2['quality'] = read_copy_quality\n",
        "print(read_copy2)"
      ],
      "metadata": {
        "colab": {
          "base_uri": "https://localhost:8080/"
        },
        "id": "xg22ghz20eUa",
        "outputId": "70433ddb-0367-4f5a-c7ee-487097b1f751"
      },
      "execution_count": 36,
      "outputs": [
        {
          "output_type": "stream",
          "name": "stdout",
          "text": [
            "      fixed acidity  volatile acidity  citric acid  residual sugar  chlorides  \\\n",
            "0          0.247788          0.397260         0.00        0.068493   0.106845   \n",
            "1          0.283186          0.520548         0.00        0.116438   0.143573   \n",
            "2          0.283186          0.438356         0.04        0.095890   0.133556   \n",
            "3          0.584071          0.109589         0.56        0.068493   0.105175   \n",
            "4          0.247788          0.397260         0.00        0.068493   0.106845   \n",
            "...             ...               ...          ...             ...        ...   \n",
            "1138       0.150442          0.267123         0.13        0.095890   0.106845   \n",
            "1139       0.194690          0.342466         0.08        0.068493   0.093489   \n",
            "1140       0.141593          0.328767         0.08        0.075342   0.130217   \n",
            "1141       0.115044          0.294521         0.10        0.089041   0.083472   \n",
            "1142       0.115044          0.359589         0.12        0.075342   0.105175   \n",
            "\n",
            "      free sulfur dioxide  total sulfur dioxide   density        pH  \\\n",
            "0                0.149254              0.098940  0.567548  0.606299   \n",
            "1                0.358209              0.215548  0.494126  0.362205   \n",
            "2                0.208955              0.169611  0.508811  0.409449   \n",
            "3                0.238806              0.190813  0.582232  0.330709   \n",
            "4                0.149254              0.098940  0.567548  0.606299   \n",
            "...                   ...                   ...       ...       ...   \n",
            "1138             0.417910              0.120141  0.416300  0.535433   \n",
            "1139             0.402985              0.113074  0.472834  0.535433   \n",
            "1140             0.462687              0.134276  0.354626  0.559055   \n",
            "1141             0.567164              0.159011  0.370778  0.614173   \n",
            "1142             0.462687              0.134276  0.396476  0.653543   \n",
            "\n",
            "      sulphates   alcohol        Id  quality  \n",
            "0      0.137725  0.153846  0.000000        0  \n",
            "1      0.209581  0.215385  0.000626        0  \n",
            "2      0.191617  0.215385  0.001252        0  \n",
            "3      0.149701  0.215385  0.001879        0  \n",
            "4      0.137725  0.153846  0.002505        0  \n",
            "...         ...       ...       ...      ...  \n",
            "1138   0.251497  0.400000  0.996869        0  \n",
            "1139   0.293413  0.169231  0.997495        0  \n",
            "1140   0.149701  0.323077  0.998121        0  \n",
            "1141   0.257485  0.430769  0.998748        0  \n",
            "1142   0.227545  0.276923  1.000000        0  \n",
            "\n",
            "[1143 rows x 13 columns]\n"
          ]
        }
      ]
    },
    {
      "cell_type": "code",
      "source": [
        "print(read_copy2.info)"
      ],
      "metadata": {
        "colab": {
          "base_uri": "https://localhost:8080/"
        },
        "id": "o1XShhrW1HVU",
        "outputId": "83bdd431-9fa0-4cdf-89e9-433d43672e5a"
      },
      "execution_count": 38,
      "outputs": [
        {
          "output_type": "stream",
          "name": "stdout",
          "text": [
            "<bound method DataFrame.info of       fixed acidity  volatile acidity  citric acid  residual sugar  chlorides  \\\n",
            "0          0.247788          0.397260         0.00        0.068493   0.106845   \n",
            "1          0.283186          0.520548         0.00        0.116438   0.143573   \n",
            "2          0.283186          0.438356         0.04        0.095890   0.133556   \n",
            "3          0.584071          0.109589         0.56        0.068493   0.105175   \n",
            "4          0.247788          0.397260         0.00        0.068493   0.106845   \n",
            "...             ...               ...          ...             ...        ...   \n",
            "1138       0.150442          0.267123         0.13        0.095890   0.106845   \n",
            "1139       0.194690          0.342466         0.08        0.068493   0.093489   \n",
            "1140       0.141593          0.328767         0.08        0.075342   0.130217   \n",
            "1141       0.115044          0.294521         0.10        0.089041   0.083472   \n",
            "1142       0.115044          0.359589         0.12        0.075342   0.105175   \n",
            "\n",
            "      free sulfur dioxide  total sulfur dioxide   density        pH  \\\n",
            "0                0.149254              0.098940  0.567548  0.606299   \n",
            "1                0.358209              0.215548  0.494126  0.362205   \n",
            "2                0.208955              0.169611  0.508811  0.409449   \n",
            "3                0.238806              0.190813  0.582232  0.330709   \n",
            "4                0.149254              0.098940  0.567548  0.606299   \n",
            "...                   ...                   ...       ...       ...   \n",
            "1138             0.417910              0.120141  0.416300  0.535433   \n",
            "1139             0.402985              0.113074  0.472834  0.535433   \n",
            "1140             0.462687              0.134276  0.354626  0.559055   \n",
            "1141             0.567164              0.159011  0.370778  0.614173   \n",
            "1142             0.462687              0.134276  0.396476  0.653543   \n",
            "\n",
            "      sulphates   alcohol        Id  quality  \n",
            "0      0.137725  0.153846  0.000000        0  \n",
            "1      0.209581  0.215385  0.000626        0  \n",
            "2      0.191617  0.215385  0.001252        0  \n",
            "3      0.149701  0.215385  0.001879        0  \n",
            "4      0.137725  0.153846  0.002505        0  \n",
            "...         ...       ...       ...      ...  \n",
            "1138   0.251497  0.400000  0.996869        0  \n",
            "1139   0.293413  0.169231  0.997495        0  \n",
            "1140   0.149701  0.323077  0.998121        0  \n",
            "1141   0.257485  0.430769  0.998748        0  \n",
            "1142   0.227545  0.276923  1.000000        0  \n",
            "\n",
            "[1143 rows x 13 columns]>\n"
          ]
        }
      ]
    }
  ]
}